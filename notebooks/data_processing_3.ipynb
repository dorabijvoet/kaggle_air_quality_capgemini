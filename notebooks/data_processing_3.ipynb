{
 "cells": [
  {
   "cell_type": "code",
   "execution_count": 11,
   "metadata": {},
   "outputs": [],
   "source": [
    "import openmeteo_requests\n",
    "import requests_cache\n",
    "import pandas as pd\n",
    "from retry_requests import retry\n",
    "from datetime import datetime\n"
   ]
  },
  {
   "cell_type": "code",
   "execution_count": 12,
   "metadata": {},
   "outputs": [],
   "source": [
    "# Setup cache and retry settings\n",
    "cache_session = requests_cache.CachedSession(\".cache\", expire_after=-1)\n",
    "retry_session = retry(cache_session, retries=5, backoff_factor=0.2)\n",
    "openmeteo = openmeteo_requests.Client(session=retry_session)\n"
   ]
  },
  {
   "cell_type": "code",
   "execution_count": 13,
   "metadata": {},
   "outputs": [],
   "source": [
    "# Define parameters for API request with both hourly and daily variables\n",
    "url = \"https://archive-api.open-meteo.com/v1/archive\"\n",
    "params = {\n",
    "    \"latitude\": 48.8566,  # Paris latitude\n",
    "    \"longitude\": 2.3522,  # Paris longitude\n",
    "    \"start_date\": \"2020-01-01\",\n",
    "    \"end_date\": datetime.now().strftime(\"%Y-%m-%d\"),\n",
    "    \"hourly\": (\n",
    "        \"temperature_2m,relative_humidity_2m,dew_point_2m,apparent_temperature,\"\n",
    "        \"surface_pressure,precipitation,rain,snowfall,cloud_cover,\"\n",
    "        \"cloud_cover_low,cloud_cover_mid,cloud_cover_high,shortwave_radiation,\"\n",
    "        \"direct_radiation,direct_normal_irradiance,diffuse_radiation,wind_speed_10m,\"\n",
    "        \"wind_direction_10m,wind_gusts_10m,et0_fao_evapotranspiration,\"\n",
    "        \"weather_code,snow_depth,vapour_pressure_deficit,\"\n",
    "        \"soil_temperature_0_to_7cm,soil_temperature_7_to_28cm,\"\n",
    "        \"soil_temperature_28_to_100cm,soil_temperature_100_to_255cm,\"\n",
    "        \"soil_moisture_0_to_7cm,soil_moisture_7_to_28cm,\"\n",
    "        \"soil_moisture_28_to_100cm,soil_moisture_100_to_255cm\"\n",
    "    ),\n",
    "    \"daily\": (\n",
    "        \"temperature_2m_min,temperature_2m_max,precipitation_sum,\"\n",
    "        \"rain_sum,snowfall_sum,precipitation_hours,sunshine_duration,\"\n",
    "        \"daylight_duration,wind_speed_10m_max,wind_gusts_10m_max,\"\n",
    "        \"shortwave_radiation_sum,et0_fao_evapotranspiration_sum\"\n",
    "    ),\n",
    "    \"timezone\": \"auto\",\n",
    "}\n"
   ]
  },
  {
   "cell_type": "code",
   "execution_count": 14,
   "metadata": {},
   "outputs": [
    {
     "name": "stdout",
     "output_type": "stream",
     "text": [
      "Coordinates 48.82249450683594°N 2.288135528564453°E\n",
      "Elevation 36.0 m asl\n",
      "Timezone b'Europe/Paris' b'CET'\n",
      "Timezone difference to GMT+0 3600 s\n"
     ]
    }
   ],
   "source": [
    "# Fetch data from API\n",
    "responses = openmeteo.weather_api(url, params=params)\n",
    "response = responses[0]  # First response for Paris\n",
    "\n",
    "# Display metadata\n",
    "print(f\"Coordinates {response.Latitude()}°N {response.Longitude()}°E\")\n",
    "print(f\"Elevation {response.Elevation()} m asl\")\n",
    "print(f\"Timezone {response.Timezone()} {response.TimezoneAbbreviation()}\")\n",
    "print(f\"Timezone difference to GMT+0 {response.UtcOffsetSeconds()} s\")\n"
   ]
  },
  {
   "cell_type": "code",
   "execution_count": 15,
   "metadata": {},
   "outputs": [],
   "source": [
    "# Process hourly data\n",
    "hourly = response.Hourly()\n",
    "hourly_data = {\n",
    "    \"date\": pd.date_range(\n",
    "        start=pd.to_datetime(hourly.Time(), unit=\"s\", utc=True),\n",
    "        end=pd.to_datetime(hourly.TimeEnd(), unit=\"s\", utc=True),\n",
    "        freq=pd.Timedelta(seconds=hourly.Interval()),\n",
    "        inclusive=\"left\",\n",
    "    )\n",
    "}\n"
   ]
  },
  {
   "cell_type": "code",
   "execution_count": 16,
   "metadata": {},
   "outputs": [
    {
     "name": "stdout",
     "output_type": "stream",
     "text": [
      "                           date  temperature_2m  relative_humidity_2m  \\\n",
      "0     2019-12-31 23:00:00+00:00           -0.14             99.276306   \n",
      "1     2020-01-01 00:00:00+00:00            2.61             98.239220   \n",
      "2     2020-01-01 01:00:00+00:00            2.11             99.644173   \n",
      "3     2020-01-01 02:00:00+00:00            1.91            100.000000   \n",
      "4     2020-01-01 03:00:00+00:00            2.21             97.883568   \n",
      "...                         ...             ...                   ...   \n",
      "42355 2024-10-30 18:00:00+00:00             NaN                   NaN   \n",
      "42356 2024-10-30 19:00:00+00:00             NaN                   NaN   \n",
      "42357 2024-10-30 20:00:00+00:00             NaN                   NaN   \n",
      "42358 2024-10-30 21:00:00+00:00             NaN                   NaN   \n",
      "42359 2024-10-30 22:00:00+00:00             NaN                   NaN   \n",
      "\n",
      "       dew_point_2m  apparent_temperature  surface_pressure  precipitation  \\\n",
      "0             -0.24             -2.673424       1028.159790            0.0   \n",
      "1              2.36              0.337214       1027.808105            0.0   \n",
      "2              2.06             -0.233696       1027.500977            0.0   \n",
      "3              1.91             -0.615977       1027.397827            0.0   \n",
      "4              1.91             -0.663568       1026.905273            0.0   \n",
      "...             ...                   ...               ...            ...   \n",
      "42355           NaN                   NaN               NaN            NaN   \n",
      "42356           NaN                   NaN               NaN            NaN   \n",
      "42357           NaN                   NaN               NaN            NaN   \n",
      "42358           NaN                   NaN               NaN            NaN   \n",
      "42359           NaN                   NaN               NaN            NaN   \n",
      "\n",
      "       rain  snowfall  cloud_cover  ...  snow_depth  vapour_pressure_deficit  \\\n",
      "0       0.0       0.0    90.000000  ...         0.0                 0.004391   \n",
      "1       0.0       0.0    87.299995  ...         0.0                 0.013017   \n",
      "2       0.0       0.0    85.500000  ...         0.0                 0.002539   \n",
      "3       0.0       0.0    84.599998  ...         0.0                 0.000000   \n",
      "4       0.0       0.0    84.599998  ...         0.0                 0.015208   \n",
      "...     ...       ...          ...  ...         ...                      ...   \n",
      "42355   NaN       NaN          NaN  ...         NaN                      NaN   \n",
      "42356   NaN       NaN          NaN  ...         NaN                      NaN   \n",
      "42357   NaN       NaN          NaN  ...         NaN                      NaN   \n",
      "42358   NaN       NaN          NaN  ...         NaN                      NaN   \n",
      "42359   NaN       NaN          NaN  ...         NaN                      NaN   \n",
      "\n",
      "       soil_temperature_0_to_7cm  soil_temperature_7_to_28cm  \\\n",
      "0                           1.11                        3.36   \n",
      "1                           1.86                        4.11   \n",
      "2                           2.21                        4.06   \n",
      "3                           2.41                        4.01   \n",
      "4                           2.61                        4.01   \n",
      "...                          ...                         ...   \n",
      "42355                        NaN                         NaN   \n",
      "42356                        NaN                         NaN   \n",
      "42357                        NaN                         NaN   \n",
      "42358                        NaN                         NaN   \n",
      "42359                        NaN                         NaN   \n",
      "\n",
      "       soil_temperature_28_to_100cm  soil_temperature_100_to_255cm  \\\n",
      "0                              8.26                          12.01   \n",
      "1                              8.26                          12.01   \n",
      "2                              8.21                          12.01   \n",
      "3                              8.21                          12.01   \n",
      "4                              8.21                          12.01   \n",
      "...                             ...                            ...   \n",
      "42355                           NaN                            NaN   \n",
      "42356                           NaN                            NaN   \n",
      "42357                           NaN                            NaN   \n",
      "42358                           NaN                            NaN   \n",
      "42359                           NaN                            NaN   \n",
      "\n",
      "       soil_moisture_0_to_7cm  soil_moisture_7_to_28cm  \\\n",
      "0                       0.380                    0.385   \n",
      "1                       0.382                    0.386   \n",
      "2                       0.382                    0.386   \n",
      "3                       0.382                    0.386   \n",
      "4                       0.382                    0.386   \n",
      "...                       ...                      ...   \n",
      "42355                     NaN                      NaN   \n",
      "42356                     NaN                      NaN   \n",
      "42357                     NaN                      NaN   \n",
      "42358                     NaN                      NaN   \n",
      "42359                     NaN                      NaN   \n",
      "\n",
      "       soil_moisture_28_to_100cm  soil_moisture_100_to_255cm  \n",
      "0                          0.383                       0.288  \n",
      "1                          0.383                       0.288  \n",
      "2                          0.383                       0.288  \n",
      "3                          0.383                       0.288  \n",
      "4                          0.383                       0.288  \n",
      "...                          ...                         ...  \n",
      "42355                        NaN                         NaN  \n",
      "42356                        NaN                         NaN  \n",
      "42357                        NaN                         NaN  \n",
      "42358                        NaN                         NaN  \n",
      "42359                        NaN                         NaN  \n",
      "\n",
      "[42360 rows x 32 columns]\n"
     ]
    }
   ],
   "source": [
    "# Organize all variables into a dictionary for DataFrame creation\n",
    "hourly_data = {\n",
    "    \"date\": pd.date_range(\n",
    "        start=pd.to_datetime(hourly.Time(), unit=\"s\", utc=True),\n",
    "        end=pd.to_datetime(hourly.TimeEnd(), unit=\"s\", utc=True),\n",
    "        freq=pd.Timedelta(seconds=hourly.Interval()),\n",
    "        inclusive=\"left\",\n",
    "    ),\n",
    "    \"temperature_2m\": hourly.Variables(0).ValuesAsNumpy(),\n",
    "    \"relative_humidity_2m\": hourly.Variables(1).ValuesAsNumpy(),\n",
    "    \"dew_point_2m\": hourly.Variables(2).ValuesAsNumpy(),\n",
    "    \"apparent_temperature\": hourly.Variables(3).ValuesAsNumpy(),\n",
    "    \"surface_pressure\": hourly.Variables(4).ValuesAsNumpy(),\n",
    "    \"precipitation\": hourly.Variables(5).ValuesAsNumpy(),\n",
    "    \"rain\": hourly.Variables(6).ValuesAsNumpy(),\n",
    "    \"snowfall\": hourly.Variables(7).ValuesAsNumpy(),\n",
    "    \"cloud_cover\": hourly.Variables(8).ValuesAsNumpy(),\n",
    "    \"cloud_cover_low\": hourly.Variables(9).ValuesAsNumpy(),\n",
    "    \"cloud_cover_mid\": hourly.Variables(10).ValuesAsNumpy(),\n",
    "    \"cloud_cover_high\": hourly.Variables(11).ValuesAsNumpy(),\n",
    "    \"shortwave_radiation\": hourly.Variables(12).ValuesAsNumpy(),\n",
    "    \"direct_radiation\": hourly.Variables(13).ValuesAsNumpy(),\n",
    "    \"direct_normal_irradiance\": hourly.Variables(14).ValuesAsNumpy(),\n",
    "    \"diffuse_radiation\": hourly.Variables(15).ValuesAsNumpy(),\n",
    "    \"wind_speed_10m\": hourly.Variables(16).ValuesAsNumpy(),\n",
    "    \"wind_direction_10m\": hourly.Variables(17).ValuesAsNumpy(),\n",
    "    \"wind_gusts_10m\": hourly.Variables(18).ValuesAsNumpy(),\n",
    "    \"et0_fao_evapotranspiration\": hourly.Variables(19).ValuesAsNumpy(),\n",
    "    \"weather_code\": hourly.Variables(20).ValuesAsNumpy(),\n",
    "    \"snow_depth\": hourly.Variables(21).ValuesAsNumpy(),\n",
    "    \"vapour_pressure_deficit\": hourly.Variables(22).ValuesAsNumpy(),\n",
    "    \"soil_temperature_0_to_7cm\": hourly.Variables(23).ValuesAsNumpy(),\n",
    "    \"soil_temperature_7_to_28cm\": hourly.Variables(24).ValuesAsNumpy(),\n",
    "    \"soil_temperature_28_to_100cm\": hourly.Variables(25).ValuesAsNumpy(),\n",
    "    \"soil_temperature_100_to_255cm\": hourly.Variables(26).ValuesAsNumpy(),\n",
    "    \"soil_moisture_0_to_7cm\": hourly.Variables(27).ValuesAsNumpy(),\n",
    "    \"soil_moisture_7_to_28cm\": hourly.Variables(28).ValuesAsNumpy(),\n",
    "    \"soil_moisture_28_to_100cm\": hourly.Variables(29).ValuesAsNumpy(),\n",
    "    \"soil_moisture_100_to_255cm\": hourly.Variables(30).ValuesAsNumpy(),\n",
    "}\n",
    "\n",
    "# Create a DataFrame\n",
    "hourly_dataframe = pd.DataFrame(data=hourly_data)\n",
    "print(hourly_dataframe)\n"
   ]
  },
  {
   "cell_type": "code",
   "execution_count": 17,
   "metadata": {},
   "outputs": [
    {
     "name": "stdout",
     "output_type": "stream",
     "text": [
      "<class 'pandas.core.frame.DataFrame'>\n",
      "RangeIndex: 42360 entries, 0 to 42359\n",
      "Data columns (total 32 columns):\n",
      " #   Column                         Non-Null Count  Dtype              \n",
      "---  ------                         --------------  -----              \n",
      " 0   date                           42360 non-null  datetime64[ns, UTC]\n",
      " 1   temperature_2m                 42314 non-null  float32            \n",
      " 2   relative_humidity_2m           42314 non-null  float32            \n",
      " 3   dew_point_2m                   42314 non-null  float32            \n",
      " 4   apparent_temperature           42314 non-null  float32            \n",
      " 5   surface_pressure               42314 non-null  float32            \n",
      " 6   precipitation                  42314 non-null  float32            \n",
      " 7   rain                           42314 non-null  float32            \n",
      " 8   snowfall                       42314 non-null  float32            \n",
      " 9   cloud_cover                    42314 non-null  float32            \n",
      " 10  cloud_cover_low                42314 non-null  float32            \n",
      " 11  cloud_cover_mid                42314 non-null  float32            \n",
      " 12  cloud_cover_high               42314 non-null  float32            \n",
      " 13  shortwave_radiation            42314 non-null  float32            \n",
      " 14  direct_radiation               42314 non-null  float32            \n",
      " 15  direct_normal_irradiance       42314 non-null  float32            \n",
      " 16  diffuse_radiation              42314 non-null  float32            \n",
      " 17  wind_speed_10m                 42314 non-null  float32            \n",
      " 18  wind_direction_10m             42314 non-null  float32            \n",
      " 19  wind_gusts_10m                 42314 non-null  float32            \n",
      " 20  et0_fao_evapotranspiration     42314 non-null  float32            \n",
      " 21  weather_code                   42314 non-null  float32            \n",
      " 22  snow_depth                     41737 non-null  float32            \n",
      " 23  vapour_pressure_deficit        42314 non-null  float32            \n",
      " 24  soil_temperature_0_to_7cm      42314 non-null  float32            \n",
      " 25  soil_temperature_7_to_28cm     42314 non-null  float32            \n",
      " 26  soil_temperature_28_to_100cm   42314 non-null  float32            \n",
      " 27  soil_temperature_100_to_255cm  42314 non-null  float32            \n",
      " 28  soil_moisture_0_to_7cm         42314 non-null  float32            \n",
      " 29  soil_moisture_7_to_28cm        42314 non-null  float32            \n",
      " 30  soil_moisture_28_to_100cm      42314 non-null  float32            \n",
      " 31  soil_moisture_100_to_255cm     42314 non-null  float32            \n",
      "dtypes: datetime64[ns, UTC](1), float32(31)\n",
      "memory usage: 5.3 MB\n"
     ]
    }
   ],
   "source": [
    "hourly_dataframe.info()"
   ]
  },
  {
   "cell_type": "code",
   "execution_count": 18,
   "metadata": {},
   "outputs": [],
   "source": [
    "# Process daily data\n",
    "daily = response.Daily()\n",
    "daily_data_length = len(daily.Variables(0).ValuesAsNumpy())\n",
    "dates_daily = pd.date_range(\n",
    "    start=pd.to_datetime(daily.Time(), unit=\"s\", utc=True),\n",
    "    periods=daily_data_length,\n",
    "    freq=\"D\",\n",
    ")\n",
    "\n",
    "# Define daily data dictionary\n",
    "daily_data = {\n",
    "    \"date\": dates_daily,\n",
    "    \"temperature_2m_min\": daily.Variables(0).ValuesAsNumpy(),\n",
    "    \"temperature_2m_max\": daily.Variables(1).ValuesAsNumpy(),\n",
    "    \"precipitation_sum\": daily.Variables(2).ValuesAsNumpy(),\n",
    "    \"rain_sum\": daily.Variables(3).ValuesAsNumpy(),\n",
    "    \"snowfall_sum\": daily.Variables(4).ValuesAsNumpy(),\n",
    "    \"precipitation_hours\": daily.Variables(5).ValuesAsNumpy(),\n",
    "    \"sunshine_duration\": daily.Variables(6).ValuesAsNumpy(),\n",
    "    \"daylight_duration\": daily.Variables(7).ValuesAsNumpy(),\n",
    "    \"wind_speed_10m_max\": daily.Variables(8).ValuesAsNumpy(),\n",
    "    \"wind_gusts_10m_max\": daily.Variables(9).ValuesAsNumpy(),\n",
    "    \"shortwave_radiation_sum\": daily.Variables(10).ValuesAsNumpy(),\n",
    "    \"et0_fao_evapotranspiration_sum\": daily.Variables(11).ValuesAsNumpy(),\n",
    "}\n"
   ]
  },
  {
   "cell_type": "code",
   "execution_count": 19,
   "metadata": {},
   "outputs": [
    {
     "name": "stdout",
     "output_type": "stream",
     "text": [
      "Hourly Data - Missing values per column:\n",
      " date                               0\n",
      "temperature_2m                    46\n",
      "relative_humidity_2m              46\n",
      "dew_point_2m                      46\n",
      "apparent_temperature              46\n",
      "surface_pressure                  46\n",
      "precipitation                     46\n",
      "rain                              46\n",
      "snowfall                          46\n",
      "cloud_cover                       46\n",
      "cloud_cover_low                   46\n",
      "cloud_cover_mid                   46\n",
      "cloud_cover_high                  46\n",
      "shortwave_radiation               46\n",
      "direct_radiation                  46\n",
      "direct_normal_irradiance          46\n",
      "diffuse_radiation                 46\n",
      "wind_speed_10m                    46\n",
      "wind_direction_10m                46\n",
      "wind_gusts_10m                    46\n",
      "et0_fao_evapotranspiration        46\n",
      "weather_code                      46\n",
      "snow_depth                       623\n",
      "vapour_pressure_deficit           46\n",
      "soil_temperature_0_to_7cm         46\n",
      "soil_temperature_7_to_28cm        46\n",
      "soil_temperature_28_to_100cm      46\n",
      "soil_temperature_100_to_255cm     46\n",
      "soil_moisture_0_to_7cm            46\n",
      "soil_moisture_7_to_28cm           46\n",
      "soil_moisture_28_to_100cm         46\n",
      "soil_moisture_100_to_255cm        46\n",
      "dtype: int64\n",
      "Daily Data - Missing values per column:\n",
      " date                              0\n",
      "temperature_2m_min                1\n",
      "temperature_2m_max                1\n",
      "precipitation_sum                 2\n",
      "rain_sum                          2\n",
      "snowfall_sum                      2\n",
      "precipitation_hours               0\n",
      "sunshine_duration                 2\n",
      "daylight_duration                 0\n",
      "wind_speed_10m_max                1\n",
      "wind_gusts_10m_max                1\n",
      "shortwave_radiation_sum           2\n",
      "et0_fao_evapotranspiration_sum    2\n",
      "dtype: int64\n"
     ]
    }
   ],
   "source": [
    "# Create daily DataFrame\n",
    "daily_dataframe = pd.DataFrame(data=daily_data)\n",
    "\n",
    "# Check for missing values summary\n",
    "print(\"Hourly Data - Missing values per column:\\n\", hourly_dataframe.isnull().sum())\n",
    "print(\"Daily Data - Missing values per column:\\n\", daily_dataframe.isnull().sum())\n"
   ]
  },
  {
   "cell_type": "code",
   "execution_count": 23,
   "metadata": {},
   "outputs": [
    {
     "name": "stdout",
     "output_type": "stream",
     "text": [
      "<class 'pandas.core.frame.DataFrame'>\n",
      "RangeIndex: 1765 entries, 0 to 1764\n",
      "Data columns (total 13 columns):\n",
      " #   Column                          Non-Null Count  Dtype              \n",
      "---  ------                          --------------  -----              \n",
      " 0   date                            1765 non-null   datetime64[ns, UTC]\n",
      " 1   temperature_2m_min              1764 non-null   float32            \n",
      " 2   temperature_2m_max              1764 non-null   float32            \n",
      " 3   precipitation_sum               1763 non-null   float32            \n",
      " 4   rain_sum                        1763 non-null   float32            \n",
      " 5   snowfall_sum                    1763 non-null   float32            \n",
      " 6   precipitation_hours             1765 non-null   float32            \n",
      " 7   sunshine_duration               1763 non-null   float32            \n",
      " 8   daylight_duration               1765 non-null   float32            \n",
      " 9   wind_speed_10m_max              1764 non-null   float32            \n",
      " 10  wind_gusts_10m_max              1764 non-null   float32            \n",
      " 11  shortwave_radiation_sum         1763 non-null   float32            \n",
      " 12  et0_fao_evapotranspiration_sum  1763 non-null   float32            \n",
      "dtypes: datetime64[ns, UTC](1), float32(12)\n",
      "memory usage: 96.7 KB\n"
     ]
    }
   ],
   "source": [
    "daily_dataframe.info()"
   ]
  },
  {
   "cell_type": "code",
   "execution_count": 26,
   "metadata": {},
   "outputs": [],
   "source": [
    "# Ensure `date` column in `daily_dataframe` is of datetime type and aligns at midnight\n",
    "daily_dataframe[\"date\"] = pd.to_datetime(daily_dataframe[\"date\"]).dt.floor(\"D\")\n"
   ]
  },
  {
   "cell_type": "code",
   "execution_count": 27,
   "metadata": {},
   "outputs": [
    {
     "name": "stderr",
     "output_type": "stream",
     "text": [
      "C:\\Users\\ameya\\AppData\\Local\\Temp\\ipykernel_17404\\522644347.py:3: FutureWarning: 'H' is deprecated and will be removed in a future version, please use 'h' instead.\n",
      "  daily_expanded = daily_dataframe.set_index(\"date\").resample(\"H\").ffill().reset_index()\n"
     ]
    }
   ],
   "source": [
    "# Resample the daily data to hourly by repeating each daily value across all 24 hours\n",
    "# for each day, then join with the hourly data\n",
    "daily_expanded = daily_dataframe.set_index(\"date\").resample(\"H\").ffill().reset_index()\n"
   ]
  },
  {
   "cell_type": "code",
   "execution_count": 28,
   "metadata": {},
   "outputs": [],
   "source": [
    "# Merge the expanded daily data with hourly data on the `date` column\n",
    "merged_dataframe = pd.merge(hourly_dataframe, daily_expanded, on=\"date\", how=\"left\")\n"
   ]
  },
  {
   "cell_type": "code",
   "execution_count": 32,
   "metadata": {},
   "outputs": [],
   "source": [
    "merged_dataframe.dropna(inplace=True)"
   ]
  },
  {
   "cell_type": "code",
   "execution_count": 34,
   "metadata": {},
   "outputs": [
    {
     "data": {
      "text/plain": [
       "(Timestamp('2019-12-31 23:00:00+0000', tz='UTC'),\n",
       " Timestamp('2024-10-24 23:00:00+0000', tz='UTC'))"
      ]
     },
     "execution_count": 34,
     "metadata": {},
     "output_type": "execute_result"
    }
   ],
   "source": [
    "merged_dataframe[\"date\"].min(), merged_dataframe[\"date\"].max()"
   ]
  },
  {
   "cell_type": "code",
   "execution_count": 35,
   "metadata": {},
   "outputs": [],
   "source": [
    "merged_dataframe.to_csv(\"../data/paris_weather_extensive.csv\", index=False)"
   ]
  },
  {
   "cell_type": "code",
   "execution_count": 36,
   "metadata": {},
   "outputs": [
    {
     "name": "stdout",
     "output_type": "stream",
     "text": [
      "<class 'pandas.core.frame.DataFrame'>\n",
      "Index: 41737 entries, 0 to 42216\n",
      "Data columns (total 44 columns):\n",
      " #   Column                          Non-Null Count  Dtype              \n",
      "---  ------                          --------------  -----              \n",
      " 0   date                            41737 non-null  datetime64[ns, UTC]\n",
      " 1   temperature_2m                  41737 non-null  float32            \n",
      " 2   relative_humidity_2m            41737 non-null  float32            \n",
      " 3   dew_point_2m                    41737 non-null  float32            \n",
      " 4   apparent_temperature            41737 non-null  float32            \n",
      " 5   surface_pressure                41737 non-null  float32            \n",
      " 6   precipitation                   41737 non-null  float32            \n",
      " 7   rain                            41737 non-null  float32            \n",
      " 8   snowfall                        41737 non-null  float32            \n",
      " 9   cloud_cover                     41737 non-null  float32            \n",
      " 10  cloud_cover_low                 41737 non-null  float32            \n",
      " 11  cloud_cover_mid                 41737 non-null  float32            \n",
      " 12  cloud_cover_high                41737 non-null  float32            \n",
      " 13  shortwave_radiation             41737 non-null  float32            \n",
      " 14  direct_radiation                41737 non-null  float32            \n",
      " 15  direct_normal_irradiance        41737 non-null  float32            \n",
      " 16  diffuse_radiation               41737 non-null  float32            \n",
      " 17  wind_speed_10m                  41737 non-null  float32            \n",
      " 18  wind_direction_10m              41737 non-null  float32            \n",
      " 19  wind_gusts_10m                  41737 non-null  float32            \n",
      " 20  et0_fao_evapotranspiration      41737 non-null  float32            \n",
      " 21  weather_code                    41737 non-null  float32            \n",
      " 22  snow_depth                      41737 non-null  float32            \n",
      " 23  vapour_pressure_deficit         41737 non-null  float32            \n",
      " 24  soil_temperature_0_to_7cm       41737 non-null  float32            \n",
      " 25  soil_temperature_7_to_28cm      41737 non-null  float32            \n",
      " 26  soil_temperature_28_to_100cm    41737 non-null  float32            \n",
      " 27  soil_temperature_100_to_255cm   41737 non-null  float32            \n",
      " 28  soil_moisture_0_to_7cm          41737 non-null  float32            \n",
      " 29  soil_moisture_7_to_28cm         41737 non-null  float32            \n",
      " 30  soil_moisture_28_to_100cm       41737 non-null  float32            \n",
      " 31  soil_moisture_100_to_255cm      41737 non-null  float32            \n",
      " 32  temperature_2m_min              41737 non-null  float32            \n",
      " 33  temperature_2m_max              41737 non-null  float32            \n",
      " 34  precipitation_sum               41737 non-null  float32            \n",
      " 35  rain_sum                        41737 non-null  float32            \n",
      " 36  snowfall_sum                    41737 non-null  float32            \n",
      " 37  precipitation_hours             41737 non-null  float32            \n",
      " 38  sunshine_duration               41737 non-null  float32            \n",
      " 39  daylight_duration               41737 non-null  float32            \n",
      " 40  wind_speed_10m_max              41737 non-null  float32            \n",
      " 41  wind_gusts_10m_max              41737 non-null  float32            \n",
      " 42  shortwave_radiation_sum         41737 non-null  float32            \n",
      " 43  et0_fao_evapotranspiration_sum  41737 non-null  float32            \n",
      "dtypes: datetime64[ns, UTC](1), float32(43)\n",
      "memory usage: 7.5 MB\n"
     ]
    }
   ],
   "source": [
    "merged_dataframe.info()"
   ]
  },
  {
   "cell_type": "code",
   "execution_count": null,
   "metadata": {},
   "outputs": [],
   "source": []
  }
 ],
 "metadata": {
  "kernelspec": {
   "display_name": "air",
   "language": "python",
   "name": "python3"
  },
  "language_info": {
   "codemirror_mode": {
    "name": "ipython",
    "version": 3
   },
   "file_extension": ".py",
   "mimetype": "text/x-python",
   "name": "python",
   "nbconvert_exporter": "python",
   "pygments_lexer": "ipython3",
   "version": "3.12.0"
  }
 },
 "nbformat": 4,
 "nbformat_minor": 2
}
